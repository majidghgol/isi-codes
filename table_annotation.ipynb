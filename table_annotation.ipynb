{
 "cells": [
  {
   "cell_type": "markdown",
   "metadata": {},
   "source": [
    "# Table segment annotation\n",
    "The input to this notebook is the `ETK` output with `table extraction` enabled."
   ]
  },
  {
   "cell_type": "markdown",
   "metadata": {},
   "source": [
    "## Reading tables\n",
    "This part uses `Spark` to read the etk output, and places all the tables in memory."
   ]
  },
  {
   "cell_type": "code",
   "execution_count": 1,
   "metadata": {},
   "outputs": [
    {
     "name": "stderr",
     "output_type": "stream",
     "text": [
      "/anaconda3/lib/python3.6/importlib/_bootstrap.py:219: RuntimeWarning: numpy.dtype size changed, may indicate binary incompatibility. Expected 96, got 88\n",
      "  return f(*args, **kwds)\n",
      "/anaconda3/lib/python3.6/site-packages/h5py/__init__.py:36: FutureWarning: Conversion of the second argument of issubdtype from `float` to `np.floating` is deprecated. In future, it will be treated as `np.float64 == np.dtype(float).type`.\n",
      "  from ._conv import register_converters as _register_converters\n",
      "/anaconda3/lib/python3.6/importlib/_bootstrap.py:219: RuntimeWarning: numpy.dtype size changed, may indicate binary incompatibility. Expected 96, got 88\n",
      "  return f(*args, **kwds)\n",
      "/anaconda3/lib/python3.6/importlib/_bootstrap.py:219: RuntimeWarning: numpy.dtype size changed, may indicate binary incompatibility. Expected 96, got 88\n",
      "  return f(*args, **kwds)\n"
     ]
    }
   ],
   "source": [
    "from pyspark import SparkConf, SparkContext\n",
    "\n",
    "config = SparkConf().setAppName(\"table_node2vec\").setMaster('local[*]')\n",
    "sc = SparkContext(conf=config)"
   ]
  },
  {
   "cell_type": "code",
   "execution_count": 2,
   "metadata": {},
   "outputs": [],
   "source": [
    "import json\n",
    "from jsonpath_ng import parse\n",
    "\n",
    "tablepath = parse('$.content_extraction.table.tables[*]')\n",
    "tables = sc.textFile('/Users/majid/DIG/data/elicit_data/').map(lambda x: json.loads(x))\n",
    "tables = tables.flatMap(lambda x: [match.value for match in tablepath.find(x)]).collect()\n"
   ]
  },
  {
   "cell_type": "markdown",
   "metadata": {},
   "source": [
    "## Initialize annotations and annotation GUI"
   ]
  },
  {
   "cell_type": "code",
   "execution_count": 32,
   "metadata": {},
   "outputs": [],
   "source": [
    "table_annotations = [dict(header=None, data=None, metadata=None, time=None, agg=None, annotated=False, fingerprint=x['fingerprint']) for x in tables]"
   ]
  },
  {
   "cell_type": "code",
   "execution_count": 37,
   "metadata": {},
   "outputs": [
    {
     "data": {
      "text/html": [
       "<script>requirejs.config({paths: { 'plotly': ['https://cdn.plot.ly/plotly-latest.min']},});if(!window.Plotly) {{require(['plotly'],function(plotly) {window.Plotly=plotly;});}}</script>"
      ],
      "text/vnd.plotly.v1+html": [
       "<script>requirejs.config({paths: { 'plotly': ['https://cdn.plot.ly/plotly-latest.min']},});if(!window.Plotly) {{require(['plotly'],function(plotly) {window.Plotly=plotly;});}}</script>"
      ]
     },
     "metadata": {},
     "output_type": "display_data"
    }
   ],
   "source": [
    "import pandas as pd\n",
    "import numpy as np\n",
    "from plotly.offline import iplot, init_notebook_mode\n",
    "import plotly.graph_objs as go\n",
    "from ipywidgets import widgets, Layout\n",
    "\n",
    "init_notebook_mode(connected=True)\n",
    "table_ind = 0\n",
    "\n",
    "next_btn = widgets.Button(description=\"next\")\n",
    "prev_btn = widgets.Button(description=\"prev\")\n",
    "table_ind_disp = widgets.IntText(value=table_ind, description=\"table index: \", layout=Layout(width='150px', height='30px'))\n",
    "\n",
    "table_type_radio = widgets.RadioButtons(options=['regular', 'time series'])\n",
    "header_area_ind = widgets.Text(description='header:')\n",
    "data_area_ind = widgets.Text(description='data:')\n",
    "time_area_ind = widgets.Text(description='time:')\n",
    "agg_area_ind = widgets.Text(description='aggregate:')\n",
    "metadata_area_ind = widgets.Text(description='metadata:')\n",
    "\n",
    "apply_btn = widgets.Button(description=\"apply\")\n",
    "\n",
    "# colors = np.random.randint(0,255, list(df.shape)+[3])\n",
    "\n",
    "# for i in range(colors.shape[0]):\n",
    "#     temp = []\n",
    "#     for j in range(colors.shape[1]):\n",
    "#         c = colors[i,j,:]\n",
    "#         temp.append('rgb({},{},{})'.format(c[0], c[1],c[2]))\n",
    "#     colors_text.append(temp)\n",
    "colors_text = None\n",
    "df = None\n",
    "indices_array = None\n",
    "fig = None\n",
    "\n",
    "ow = widgets.Output()\n",
    "navigation = widgets.VBox([table_ind_disp, prev_btn, next_btn])\n",
    "annotation_regular = widgets.HBox([widgets.VBox([header_area_ind, data_area_ind, metadata_area_ind, apply_btn]),\n",
    "                                   widgets.VBox([time_area_ind, agg_area_ind])])\n",
    "# annotation_timeseries = widgets.VBox([ts_header_area_ind,time_area_ind,ts_metadata_area_ind])\n",
    "toolbox = widgets.HBox([navigation, annotation_regular])\n",
    "\n",
    "layout = go.Layout()\n",
    "\n",
    "def set_colors(update=False):\n",
    "    global colors_text\n",
    "    colors_text = [['white']*df.shape[1] for _ in range(df.shape[0])]\n",
    "    if table_annotations[table_ind]['annotated'] == True:\n",
    "        hh = table_annotations[table_ind]['header']\n",
    "        dd = table_annotations[table_ind]['data']\n",
    "        mdmd = table_annotations[table_ind]['metadata']\n",
    "        times = table_annotations[table_ind]['time']\n",
    "        aggs = table_annotations[table_ind]['agg']\n",
    "        annotated = False\n",
    "        if hh is not None:\n",
    "            for h in hh.split(';'):\n",
    "                indices = eval('indices_array['+h+']')\n",
    "                if isinstance(indices, tuple):\n",
    "                    indices = [indices]\n",
    "                elif indices.ndim > 1:\n",
    "                    indices = indices.flatten()\n",
    "                for i in indices:\n",
    "                    colors_text[i[0]][i[1]] = 'cyan'\n",
    "        if dd is not None:\n",
    "            for d in dd.split(';'):\n",
    "                indices = eval('indices_array['+d+']')\n",
    "                if isinstance(indices, tuple):\n",
    "                    indices = [indices]\n",
    "                elif indices.ndim > 1:\n",
    "                    indices = indices.flatten()\n",
    "                for i in indices:\n",
    "                    colors_text[i[0]][i[1]] = 'LightGreen'\n",
    "        if mdmd is not None:\n",
    "            for md in mdmd.split(';'):\n",
    "                indices = eval('indices_array['+md+']')\n",
    "                if isinstance(indices, tuple):\n",
    "                    indices = [indices]\n",
    "                elif indices.ndim > 1:\n",
    "                    indices = indices.flatten()\n",
    "                for i in indices:\n",
    "                    colors_text[i[0]][i[1]] = 'Khaki'\n",
    "                    \n",
    "        if times is not None:\n",
    "            for t in times.split(';'):\n",
    "                indices = eval('indices_array['+t+']')\n",
    "                if isinstance(indices, tuple):\n",
    "                    indices = [indices]\n",
    "                elif indices.ndim > 1:\n",
    "                    indices = indices.flatten()\n",
    "                for i in indices:\n",
    "                    colors_text[i[0]][i[1]] = 'blueviolet'\n",
    "                    \n",
    "        if aggs is not None:\n",
    "            for agg in aggs.split(';'):\n",
    "                indices = eval('indices_array['+agg+']')\n",
    "                if isinstance(indices, tuple):\n",
    "                    indices = [indices]\n",
    "                elif indices.ndim > 1:\n",
    "                    indices = indices.flatten()\n",
    "                for i in indices:\n",
    "                    colors_text[i[0]][i[1]] = 'olive'\n",
    "        \n",
    "def plot(update=False):\n",
    "    global colors_text\n",
    "    global df\n",
    "    global indices_array\n",
    "    global fig\n",
    "    df = pd.read_html(tables[table_ind]['html'],match='.*')[0]\n",
    "    if not update:\n",
    "        indices_array = np.zeros(df.shape, dtype=object)\n",
    "        for i in range(indices_array.shape[0]):\n",
    "            for j in range(indices_array.shape[1]):\n",
    "                indices_array[i,j] = (i,j)\n",
    "        set_colors()\n",
    "        trace = go.Table(cells=dict(values=[df[x] for x in df.columns],\n",
    "                                    fill = dict(color=np.array(colors_text).T)),\n",
    "                         header=dict(values=list(range(df.shape[1])),line = dict(width=0)))\n",
    "        with ow:\n",
    "            fig = dict(data=[trace], layout=layout)\n",
    "            iplot(fig, filename='my plot')\n",
    "    else:\n",
    "        set_colors()\n",
    "        trace = go.Table(cells=dict(values=[df[x] for x in df.columns],\n",
    "                                    fill = dict(color=np.array(colors_text).T)),\n",
    "                         header=dict(values=list(range(df.shape[1])),line = dict(width=0)))\n",
    "        with ow:\n",
    "            fig.update(data=[trace])\n",
    "            iplot(fig)\n",
    "\n",
    "def goto_next(b):\n",
    "    global table_ind\n",
    "    table_ind+=1\n",
    "    ow.clear_output()\n",
    "    plot()\n",
    "    table_ind_disp.value = table_ind\n",
    "    \n",
    "def goto_prev(b):\n",
    "    global table_ind\n",
    "    table_ind-=1\n",
    "    ow.clear_output()\n",
    "    plot()\n",
    "    table_ind_disp.value = table_ind\n",
    "    \n",
    "def apply_annotation(b):\n",
    "    h = header_area_ind.value\n",
    "    d = data_area_ind.value\n",
    "    md = metadata_area_ind.value\n",
    "    t = time_area_ind.value\n",
    "    agg = agg_area_ind.value\n",
    "    annotated = False\n",
    "    if h != '':\n",
    "        table_annotations[table_ind]['header'] = h\n",
    "        annotated = True\n",
    "    else:\n",
    "        table_annotations[table_ind]['header'] = None\n",
    "    if d != '':\n",
    "        table_annotations[table_ind]['data'] = d\n",
    "        annotated = True\n",
    "    else:\n",
    "        table_annotations[table_ind]['data'] = None\n",
    "    if md != '':\n",
    "        table_annotations[table_ind]['metadata'] = md\n",
    "        annotated = True\n",
    "    else:\n",
    "        table_annotations[table_ind]['metadata'] = None\n",
    "    if t != '':\n",
    "        table_annotations[table_ind]['time'] = t\n",
    "        annotated = True\n",
    "    else:\n",
    "        table_annotations[table_ind]['time'] = None\n",
    "    if agg != '':\n",
    "        table_annotations[table_ind]['agg'] = agg\n",
    "        annotated = True\n",
    "    else:\n",
    "        table_annotations[table_ind]['agg'] = None\n",
    "    table_annotations[table_ind]['annotated'] = annotated\n",
    "    ow.clear_output()\n",
    "    plot(True)\n",
    "#     layout.update()\n",
    "        \n",
    "    \n",
    "prev_btn.on_click(goto_prev)\n",
    "next_btn.on_click(goto_next)\n",
    "apply_btn.on_click(apply_annotation)\n"
   ]
  },
  {
   "cell_type": "markdown",
   "metadata": {},
   "source": [
    "## Annotate Tables\n",
    "On the left side there are table navigation buttons: \n",
    "- `table index`: current table index\n",
    "- `next`, `prev`: goto next/prev table\n",
    "\n",
    "On the right side, there are annotation fields:\n",
    "- `header`: header block (column or row header cells, can be multiple rows/cols)\n",
    "- `data`: data block\n",
    "- `metadata`: metadata block (table information such as title, table notes, etc.)\n",
    "- `time`: time block (in case the table is time series). it can overlap `header` block.\n",
    "- `aggregate`: aggregate block (e.g. total). can overlap `data` block.\n",
    "\n",
    "The annotations are in numpy slicing format, some examples shown below:\n",
    "- first row: `0`\n",
    "- first column: `:,0`\n",
    "- cell at second col and third row: `2,1`\n",
    "\n",
    "multiple blocks can be introduced, by using `;` to separate them:\n",
    "- first row and third row: `0;2`\n",
    "- `0:5,1:4;8:10,1:4`\n",
    "\n",
    "By pressing `apply` the annotation will be saved in `table_annotations` array, this array must be written to disk once annotations are finished."
   ]
  },
  {
   "cell_type": "code",
   "execution_count": 38,
   "metadata": {},
   "outputs": [
    {
     "data": {
      "application/vnd.jupyter.widget-view+json": {
       "model_id": "122e4e733dfb476f8905e17ebcbfe308",
       "version_major": 2,
       "version_minor": 0
      },
      "text/html": [
       "<p>Failed to display Jupyter Widget of type <code>HBox</code>.</p>\n",
       "<p>\n",
       "  If you're reading this message in the Jupyter Notebook or JupyterLab Notebook, it may mean\n",
       "  that the widgets JavaScript is still loading. If this message persists, it\n",
       "  likely means that the widgets JavaScript library is either not installed or\n",
       "  not enabled. See the <a href=\"https://ipywidgets.readthedocs.io/en/stable/user_install.html\">Jupyter\n",
       "  Widgets Documentation</a> for setup instructions.\n",
       "</p>\n",
       "<p>\n",
       "  If you're reading this message in another frontend (for example, a static\n",
       "  rendering on GitHub or <a href=\"https://nbviewer.jupyter.org/\">NBViewer</a>),\n",
       "  it may mean that your frontend doesn't currently support widgets.\n",
       "</p>\n"
      ],
      "text/plain": [
       "HBox(children=(VBox(children=(IntText(value=0, description='table index: ', layout=Layout(height='30px', width='150px')), Button(description='prev', style=ButtonStyle()), Button(description='next', style=ButtonStyle()))), HBox(children=(VBox(children=(Text(value='', description='header:'), Text(value='', description='data:'), Text(value='', description='metadata:'), Button(description='apply', style=ButtonStyle()))), VBox(children=(Text(value='', description='time:'), Text(value='', description='aggregate:')))))))"
      ]
     },
     "metadata": {},
     "output_type": "display_data"
    },
    {
     "data": {
      "application/vnd.jupyter.widget-view+json": {
       "model_id": "3d99841fe3bb447da9cfcc68cf8d7928",
       "version_major": 2,
       "version_minor": 0
      },
      "text/html": [
       "<p>Failed to display Jupyter Widget of type <code>Output</code>.</p>\n",
       "<p>\n",
       "  If you're reading this message in the Jupyter Notebook or JupyterLab Notebook, it may mean\n",
       "  that the widgets JavaScript is still loading. If this message persists, it\n",
       "  likely means that the widgets JavaScript library is either not installed or\n",
       "  not enabled. See the <a href=\"https://ipywidgets.readthedocs.io/en/stable/user_install.html\">Jupyter\n",
       "  Widgets Documentation</a> for setup instructions.\n",
       "</p>\n",
       "<p>\n",
       "  If you're reading this message in another frontend (for example, a static\n",
       "  rendering on GitHub or <a href=\"https://nbviewer.jupyter.org/\">NBViewer</a>),\n",
       "  it may mean that your frontend doesn't currently support widgets.\n",
       "</p>\n"
      ],
      "text/plain": [
       "Output()"
      ]
     },
     "metadata": {},
     "output_type": "display_data"
    }
   ],
   "source": [
    "display(toolbox)\n",
    "display(ow)\n",
    "plot()"
   ]
  },
  {
   "cell_type": "code",
   "execution_count": 62,
   "metadata": {},
   "outputs": [
    {
     "data": {
      "text/plain": [
       "{'header': '1', 'data': '2:', 'metadata': '0,0', 'annotated': True}"
      ]
     },
     "execution_count": 62,
     "metadata": {},
     "output_type": "execute_result"
    }
   ],
   "source": [
    "table_annotations[table_ind]"
   ]
  },
  {
   "cell_type": "markdown",
   "metadata": {},
   "source": [
    "### write the annotations to file"
   ]
  },
  {
   "cell_type": "code",
   "execution_count": 18,
   "metadata": {},
   "outputs": [],
   "source": [
    "outfile = open('/Users/majid/Desktop/elicit_annotations.jl', 'w')\n",
    "for x in table_annotations:\n",
    "    outfile.write(json.dumps(x)+'\\n')\n",
    "outfile.close()"
   ]
  }
 ],
 "metadata": {
  "kernelspec": {
   "display_name": "Python [conda env:anaconda3]",
   "language": "python",
   "name": "conda-env-anaconda3-py"
  },
  "language_info": {
   "codemirror_mode": {
    "name": "ipython",
    "version": 3
   },
   "file_extension": ".py",
   "mimetype": "text/x-python",
   "name": "python",
   "nbconvert_exporter": "python",
   "pygments_lexer": "ipython3",
   "version": "3.6.4"
  }
 },
 "nbformat": 4,
 "nbformat_minor": 2
}
